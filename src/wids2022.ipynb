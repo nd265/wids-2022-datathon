{
 "cells": [
  {
   "cell_type": "code",
   "execution_count": 1,
   "metadata": {
    "_cell_guid": "b1076dfc-b9ad-4769-8c92-a6c4dae69d19",
    "_uuid": "8f2839f25d086af736a60e9eeb907d3b93b6e0e5",
    "tags": []
   },
   "outputs": [
    {
     "name": "stderr",
     "output_type": "stream",
     "text": [
      "/Users/navyadahiya/opt/miniconda3/envs/571/lib/python3.9/site-packages/xgboost/compat.py:31: FutureWarning: pandas.Int64Index is deprecated and will be removed from pandas in a future version. Use pandas.Index with the appropriate dtype instead.\n",
      "  from pandas import MultiIndex, Int64Index\n"
     ]
    }
   ],
   "source": [
    "# This Python 3 environment comes with many helpful analytics libraries installed\n",
    "# It is defined by the kaggle/python Docker image: https://github.com/kaggle/docker-python\n",
    "# For example, here's several helpful packages to load\n",
    "\n",
    "import numpy as np # linear algebra\n",
    "import pandas as pd # data processing, CSV file I/O (e.g. pd.read_csv)\n",
    "import altair as alt\n",
    "from catboost import CatBoostRegressor\n",
    "from xgboost import XGBRegressor\n",
    "from lightgbm import LGBMRegressor\n",
    "from sklearn.compose import make_column_transformer\n",
    "from sklearn.pipeline import make_pipeline\n",
    "from sklearn.model_selection import cross_validate, train_test_split\n",
    "from sklearn.ensemble import VotingRegressor\n",
    "from sklearn.metrics import make_scorer, mean_squared_error\n",
    "from sklearn.experimental import enable_iterative_imputer\n",
    "from sklearn.impute import IterativeImputer\n",
    "from sklearn.preprocessing import StandardScaler\n",
    "\n",
    "# Input data files are available in the read-only \"../input/\" directory\n",
    "# For example, running this (by clicking run or pressing Shift+Enter) will list all files under the input directory\n",
    "\n",
    "import os\n",
    "for dirname, _, filenames in os.walk('/kaggle/input'):\n",
    "    for filename in filenames:\n",
    "        print(os.path.join(dirname, filename))\n",
    "\n",
    "# You can write up to 20GB to the current directory (/kaggle/working/) that gets preserved as output when you create a version using \"Save & Run All\" \n",
    "# You can also write temporary files to /kaggle/temp/, but they won't be saved outside of the current session"
   ]
  },
  {
   "cell_type": "markdown",
   "metadata": {},
   "source": [
    "### Model 1 (clusterting + train on entire set)"
   ]
  },
  {
   "cell_type": "code",
   "execution_count": 2,
   "metadata": {
    "tags": []
   },
   "outputs": [],
   "source": [
    "train_df = pd.read_csv('../data/train.csv')\n",
    "test_df = pd.read_csv('../data/test.csv')"
   ]
  },
  {
   "cell_type": "code",
   "execution_count": 3,
   "metadata": {
    "tags": []
   },
   "outputs": [
    {
     "data": {
      "text/plain": [
       "Index(['Year_Factor', 'State_Factor', 'building_class', 'facility_type',\n",
       "       'floor_area', 'year_built', 'energy_star_rating', 'ELEVATION',\n",
       "       'january_min_temp', 'january_avg_temp', 'january_max_temp',\n",
       "       'february_min_temp', 'february_avg_temp', 'february_max_temp',\n",
       "       'march_min_temp', 'march_avg_temp', 'march_max_temp', 'april_min_temp',\n",
       "       'april_avg_temp', 'april_max_temp', 'may_min_temp', 'may_avg_temp',\n",
       "       'may_max_temp', 'june_min_temp', 'june_avg_temp', 'june_max_temp',\n",
       "       'july_min_temp', 'july_avg_temp', 'july_max_temp', 'august_min_temp',\n",
       "       'august_avg_temp', 'august_max_temp', 'september_min_temp',\n",
       "       'september_avg_temp', 'september_max_temp', 'october_min_temp',\n",
       "       'october_avg_temp', 'october_max_temp', 'november_min_temp',\n",
       "       'november_avg_temp', 'november_max_temp', 'december_min_temp',\n",
       "       'december_avg_temp', 'december_max_temp', 'cooling_degree_days',\n",
       "       'heating_degree_days', 'precipitation_inches', 'snowfall_inches',\n",
       "       'snowdepth_inches', 'avg_temp', 'days_below_30F', 'days_below_20F',\n",
       "       'days_below_10F', 'days_below_0F', 'days_above_80F', 'days_above_90F',\n",
       "       'days_above_100F', 'days_above_110F', 'direction_max_wind_speed',\n",
       "       'direction_peak_wind_speed', 'max_wind_speed', 'days_with_fog',\n",
       "       'site_eui', 'id'],\n",
       "      dtype='object')"
      ]
     },
     "execution_count": 3,
     "metadata": {},
     "output_type": "execute_result"
    }
   ],
   "source": [
    "train_df.columns"
   ]
  },
  {
   "cell_type": "markdown",
   "metadata": {},
   "source": []
  },
  {
   "cell_type": "code",
   "execution_count": 4,
   "metadata": {
    "execution": {
     "iopub.execute_input": "2022-02-21T23:12:22.386502Z",
     "iopub.status.busy": "2022-02-21T23:12:22.385932Z",
     "iopub.status.idle": "2022-02-21T23:12:22.412088Z",
     "shell.execute_reply": "2022-02-21T23:12:22.411447Z",
     "shell.execute_reply.started": "2022-02-21T23:12:22.386468Z"
    }
   },
   "outputs": [],
   "source": [
    "train_df = train_df.query(\"State_Factor != 'State_6'\")"
   ]
  },
  {
   "cell_type": "code",
   "execution_count": null,
   "metadata": {
    "execution": {
     "iopub.execute_input": "2022-02-19T19:53:38.344741Z",
     "iopub.status.busy": "2022-02-19T19:53:38.344283Z",
     "iopub.status.idle": "2022-02-19T19:53:57.930916Z",
     "shell.execute_reply": "2022-02-19T19:53:57.929933Z",
     "shell.execute_reply.started": "2022-02-19T19:53:38.344669Z"
    }
   },
   "outputs": [],
   "source": [
    "temp_cols = train_df.columns[8:44].tolist()\n",
    "\n",
    "from yellowbrick.cluster import KElbowVisualizer\n",
    "from sklearn.cluster import KMeans\n",
    "\n",
    "model = KMeans()\n",
    "visualizer = KElbowVisualizer(model, k=(1, 15))\n",
    "\n",
    "mod_df1 = train_df[temp_cols+[\"id\"]].copy()\n",
    "mod_df2 = test_df[temp_cols+[\"id\"]].copy()\n",
    "mod_df1['set'] = 'train'\n",
    "mod_df2['set'] = 'test'\n",
    "\n",
    "mod_df = mod_df1.append(mod_df2)\n",
    "\n",
    "visualizer.fit(mod_df[temp_cols])  # Fit the data to the visualizer\n",
    "visualizer.show();"
   ]
  },
  {
   "cell_type": "code",
   "execution_count": null,
   "metadata": {
    "execution": {
     "iopub.execute_input": "2022-02-19T19:53:57.934047Z",
     "iopub.status.busy": "2022-02-19T19:53:57.933419Z",
     "iopub.status.idle": "2022-02-19T19:53:58.831508Z",
     "shell.execute_reply": "2022-02-19T19:53:58.830747Z",
     "shell.execute_reply.started": "2022-02-19T19:53:57.933972Z"
    }
   },
   "outputs": [],
   "source": [
    "kmeans = KMeans(n_clusters=4)\n",
    "kmeans.fit(mod_df[temp_cols])\n",
    "\n",
    "clusters_df = mod_df.copy()\n",
    "clusters_df[\"cluster\"] = kmeans.predict(mod_df[temp_cols])\n",
    "clusters_df"
   ]
  },
  {
   "cell_type": "code",
   "execution_count": null,
   "metadata": {
    "execution": {
     "iopub.execute_input": "2022-02-19T19:53:58.837879Z",
     "iopub.status.busy": "2022-02-19T19:53:58.835724Z",
     "iopub.status.idle": "2022-02-19T19:53:58.85967Z",
     "shell.execute_reply": "2022-02-19T19:53:58.85893Z",
     "shell.execute_reply.started": "2022-02-19T19:53:58.837836Z"
    }
   },
   "outputs": [],
   "source": [
    "clusters_df.groupby([\"set\"]).cluster.value_counts(normalize=True)"
   ]
  },
  {
   "cell_type": "code",
   "execution_count": null,
   "metadata": {
    "execution": {
     "iopub.execute_input": "2022-02-19T19:53:58.86685Z",
     "iopub.status.busy": "2022-02-19T19:53:58.864654Z",
     "iopub.status.idle": "2022-02-19T19:53:58.886363Z",
     "shell.execute_reply": "2022-02-19T19:53:58.885566Z",
     "shell.execute_reply.started": "2022-02-19T19:53:58.86681Z"
    }
   },
   "outputs": [],
   "source": [
    "clusters_df.drop(clusters_df.columns[0: 36].to_list(), axis=1, inplace=True)\n",
    "clusters_df"
   ]
  },
  {
   "cell_type": "code",
   "execution_count": null,
   "metadata": {
    "execution": {
     "iopub.execute_input": "2022-02-19T19:53:58.88804Z",
     "iopub.status.busy": "2022-02-19T19:53:58.887551Z",
     "iopub.status.idle": "2022-02-19T19:53:58.988571Z",
     "shell.execute_reply": "2022-02-19T19:53:58.987562Z",
     "shell.execute_reply.started": "2022-02-19T19:53:58.88797Z"
    }
   },
   "outputs": [],
   "source": [
    "train_df = train_df.merge(clusters_df, how='left', on='id')\n",
    "test_df = test_df.merge(clusters_df, how='left', on='id')"
   ]
  },
  {
   "cell_type": "code",
   "execution_count": null,
   "metadata": {
    "execution": {
     "iopub.execute_input": "2022-02-19T19:53:58.99053Z",
     "iopub.status.busy": "2022-02-19T19:53:58.990198Z",
     "iopub.status.idle": "2022-02-19T19:53:59.035139Z",
     "shell.execute_reply": "2022-02-19T19:53:59.034023Z",
     "shell.execute_reply.started": "2022-02-19T19:53:58.990487Z"
    }
   },
   "outputs": [],
   "source": [
    "test_df"
   ]
  },
  {
   "cell_type": "code",
   "execution_count": null,
   "metadata": {
    "execution": {
     "iopub.execute_input": "2022-02-19T19:53:59.037367Z",
     "iopub.status.busy": "2022-02-19T19:53:59.037048Z",
     "iopub.status.idle": "2022-02-19T19:53:59.139971Z",
     "shell.execute_reply": "2022-02-19T19:53:59.139059Z",
     "shell.execute_reply.started": "2022-02-19T19:53:59.037324Z"
    }
   },
   "outputs": [],
   "source": [
    "# Making a new column by concating specific columns of df\n",
    "\n",
    "def make_building_ids(data,columns):\n",
    "    full_col_name = None\n",
    "    for column in columns:\n",
    "        if full_col_name is None:\n",
    "            full_col_name = data[column].astype(str)\n",
    "        else:\n",
    "            full_col_name += '_' +data[column].astype(str)        \n",
    "    return full_col_name\n",
    "\n",
    "buidling_columns = ['State_Factor','building_class','facility_type','year_built','floor_area']\n",
    "\n",
    "train_df['building_ID'] = make_building_ids(train_df, buidling_columns)\n",
    "test_df['building_ID'] = make_building_ids(test_df, buidling_columns)"
   ]
  },
  {
   "cell_type": "code",
   "execution_count": null,
   "metadata": {
    "execution": {
     "iopub.execute_input": "2022-02-19T19:53:59.142352Z",
     "iopub.status.busy": "2022-02-19T19:53:59.141421Z",
     "iopub.status.idle": "2022-02-19T19:53:59.192332Z",
     "shell.execute_reply": "2022-02-19T19:53:59.191181Z",
     "shell.execute_reply.started": "2022-02-19T19:53:59.142305Z"
    }
   },
   "outputs": [],
   "source": [
    "train_df"
   ]
  },
  {
   "cell_type": "code",
   "execution_count": null,
   "metadata": {
    "execution": {
     "iopub.execute_input": "2022-02-19T19:53:59.194571Z",
     "iopub.status.busy": "2022-02-19T19:53:59.19414Z",
     "iopub.status.idle": "2022-02-19T19:54:00.883431Z",
     "shell.execute_reply": "2022-02-19T19:54:00.882497Z",
     "shell.execute_reply.started": "2022-02-19T19:53:59.194524Z"
    }
   },
   "outputs": [],
   "source": [
    "replace = dict(zip(\n",
    "    [\n",
    "        \"Education_.*\",\n",
    "        \".*(f|F)ood_.*\",\n",
    "        \"Health_Care_.*\",\n",
    "        \"Lodging_.*\",\n",
    "        \"Office_.*\",\n",
    "        \"(Public_|Religious).*\",\n",
    "        \"Retail_.*\",\n",
    "        \"Service_.*\",\n",
    "        \"Warehouse_.*\",\n",
    "        \".*_Unit_.*\",\n",
    "        \"Mixed_Use_.*\"\n",
    "    ],\n",
    "    [\n",
    "        \"Commercial_Education\",\n",
    "        \"Commercial_Food\",\n",
    "        \"Commercial_Health\",\n",
    "        \"Commercial_Hotel\",\n",
    "        \"Commercial_Office\",\n",
    "        \"Commercial_Public\",\n",
    "        \"Commercial_Retail\",\n",
    "        \"Commercial_Service\",\n",
    "        \"Commercial_Warehouse\",\n",
    "        \"Residential_Unit\",\n",
    "        \"Residential_Mixed\"\n",
    "    ]\n",
    "))\n",
    "\n",
    "replace.update({\n",
    "    \"Commercial_Unknown\": \"Commercial_Other\",\n",
    "    \"Data_Center\": \"Commercial_DC\",\n",
    "    \"Industrial\": \"Commercial_Industrial\",\n",
    "    \"Laboratory\": \"Commercial_Lab\",\n",
    "    \"Nursing_Home\": \"Commercial_Home\",\n",
    "    \"Parking_Garage\": \"Commercial_Parking\",\n",
    "    \"Multifamily_Uncategorized\": \"Residential_Multifamily\"\n",
    "})\n",
    "\n",
    "train_df[\"building_class\"] = train_df[\"facility_type\"].replace(replace, regex=True)\n",
    "test_df[\"building_class\"] = test_df[\"facility_type\"].replace(replace, regex=True)"
   ]
  },
  {
   "cell_type": "code",
   "execution_count": null,
   "metadata": {
    "execution": {
     "iopub.execute_input": "2022-02-19T19:54:00.887109Z",
     "iopub.status.busy": "2022-02-19T19:54:00.886561Z",
     "iopub.status.idle": "2022-02-19T19:54:00.909951Z",
     "shell.execute_reply": "2022-02-19T19:54:00.908989Z",
     "shell.execute_reply.started": "2022-02-19T19:54:00.887064Z"
    }
   },
   "outputs": [],
   "source": [
    "year = train_df[\"year_built\"].fillna(2016)\n",
    "train_df = train_df.loc[(year <= 2016) & (year >= 1845)]"
   ]
  },
  {
   "cell_type": "code",
   "execution_count": null,
   "metadata": {
    "execution": {
     "iopub.execute_input": "2022-02-19T19:54:00.912162Z",
     "iopub.status.busy": "2022-02-19T19:54:00.911602Z",
     "iopub.status.idle": "2022-02-19T19:54:22.196522Z",
     "shell.execute_reply": "2022-02-19T19:54:22.195577Z",
     "shell.execute_reply.started": "2022-02-19T19:54:00.912114Z"
    }
   },
   "outputs": [],
   "source": [
    "# Categorical encoding by mean values\n",
    "# Attribution: Inspired from another notebook in the competition\n",
    "\n",
    "train_df[\"State_Factor_encoded\"] = train_df.groupby(\"State_Factor\")[\"site_eui\"].transform(\"mean\")\n",
    "train_df[\"building_class_encoded\"] = train_df.groupby(\"building_class\")[\"site_eui\"].transform(\"mean\")\n",
    "train_df[\"facility_type_encoded\"] = train_df.groupby(\"facility_type\")[\"site_eui\"].transform(\"mean\")\n",
    "train_df[\"building_ID_encoded\"] = train_df.groupby(\"building_ID\")[\"site_eui\"].transform(\"mean\")\n",
    "#train_df[\"month_ID_encoded\"] = train_df.groupby(\"month_ID\")[\"site_eui\"].transform(\"mean\")\n",
    "\n",
    "sf_encoding = (\n",
    "    train_df[[\"State_Factor\",\"State_Factor_encoded\"]]\n",
    "    .drop_duplicates()\n",
    "    .set_index('State_Factor')\n",
    "    .to_dict()['State_Factor_encoded']\n",
    ")\n",
    "train_df = train_df.replace({\"State_Factor\": sf_encoding})\n",
    "test_df = test_df.replace({\"State_Factor\": sf_encoding})\n",
    "\n",
    "bc_encoding = (\n",
    "    train_df[[\"building_class\",\"building_class_encoded\"]]\n",
    "    .drop_duplicates()\n",
    "    .set_index('building_class')\n",
    "    .to_dict()['building_class_encoded']\n",
    ")\n",
    "train_df = train_df.replace({\"building_class\": bc_encoding})\n",
    "test_df = test_df.replace({\"building_class\": bc_encoding})\n",
    "\n",
    "ft_encoding = (\n",
    "    train_df[[\"facility_type\",\"facility_type_encoded\"]]\n",
    "    .drop_duplicates()\n",
    "    .set_index('facility_type')\n",
    "    .to_dict()['facility_type_encoded']\n",
    ")\n",
    "train_df = train_df.replace({\"facility_type\": ft_encoding})\n",
    "test_df = test_df.replace({\"facility_type\": ft_encoding})\n",
    "\n",
    "bi_encoding = (\n",
    "    train_df[[\"building_ID\",\"building_ID_encoded\"]]\n",
    "    .drop_duplicates()\n",
    "    .set_index('building_ID')\n",
    "    .to_dict()['building_ID_encoded']\n",
    ")\n",
    "train_df = train_df.replace({\"building_ID\": bi_encoding})\n",
    "test_df = test_df.replace({\"building_ID\": bi_encoding})\n",
    "\n",
    "# mi_encoding = (\n",
    "#     train_df[[\"month_ID\",\"month_ID_encoded\"]]\n",
    "#     .drop_duplicates()\n",
    "#     .set_index('month_ID')\n",
    "#     .to_dict()['month_ID_encoded']\n",
    "# )\n",
    "# train_df = train_df.replace({\"month_ID\": mi_encoding})\n",
    "# test_df = test_df.replace({\"month_ID\": mi_encoding})\n",
    "\n",
    "train_df = train_df.drop(['State_Factor_encoded',\n",
    "                          'building_class_encoded',\n",
    "                          'facility_type_encoded',\n",
    "                         # \"month_ID_encoded\",\n",
    "                          'building_ID_encoded'\n",
    "                         ],\n",
    "                         axis = 1)"
   ]
  },
  {
   "cell_type": "code",
   "execution_count": null,
   "metadata": {
    "execution": {
     "iopub.execute_input": "2022-02-19T19:54:22.200129Z",
     "iopub.status.busy": "2022-02-19T19:54:22.198965Z",
     "iopub.status.idle": "2022-02-19T19:54:22.411456Z",
     "shell.execute_reply": "2022-02-19T19:54:22.410504Z",
     "shell.execute_reply.started": "2022-02-19T19:54:22.20008Z"
    }
   },
   "outputs": [],
   "source": [
    "filter_num = [isinstance(test_df.building_ID.values[i], float) for i in range(test_df.shape[0])]\n",
    "filter_str = [isinstance(test_df.building_ID.values[i], str) for i in range(test_df.shape[0])]\n",
    "test_num = test_df[filter_num].copy() \n",
    "test_str = test_df[filter_str].copy()"
   ]
  },
  {
   "cell_type": "code",
   "execution_count": null,
   "metadata": {
    "execution": {
     "iopub.execute_input": "2022-02-19T19:54:22.415268Z",
     "iopub.status.busy": "2022-02-19T19:54:22.414931Z",
     "iopub.status.idle": "2022-02-19T19:54:22.448994Z",
     "shell.execute_reply": "2022-02-19T19:54:22.448078Z",
     "shell.execute_reply.started": "2022-02-19T19:54:22.41522Z"
    }
   },
   "outputs": [],
   "source": [
    "test_num.head(5)"
   ]
  },
  {
   "cell_type": "markdown",
   "metadata": {},
   "source": [
    "### ML Pipeline"
   ]
  },
  {
   "cell_type": "code",
   "execution_count": null,
   "metadata": {
    "execution": {
     "iopub.execute_input": "2022-02-19T19:54:32.358304Z",
     "iopub.status.busy": "2022-02-19T19:54:32.35797Z",
     "iopub.status.idle": "2022-02-19T19:54:32.365635Z",
     "shell.execute_reply": "2022-02-19T19:54:32.364609Z",
     "shell.execute_reply.started": "2022-02-19T19:54:32.358271Z"
    }
   },
   "outputs": [],
   "source": [
    "features_selected = [\n",
    "    \"facility_type\",\n",
    "    \"building_class\",\n",
    "    \"year_built\",\n",
    "    \"floor_area\",\n",
    "    \"energy_star_rating\",\n",
    "    \"State_Factor\",\n",
    "    \"building_ID\",\n",
    "    \"Year_Factor\"\n",
    "   # \"month_ID\"\n",
    "]\n",
    "target = \"site_eui\"\n",
    "drop_features = list(\n",
    "    set(train_df.columns) - set(features_selected) - {target} - {\"Year_Factor\"}\n",
    "    #- set(single)\n",
    ")"
   ]
  },
  {
   "cell_type": "code",
   "execution_count": null,
   "metadata": {
    "execution": {
     "iopub.execute_input": "2022-02-19T19:54:36.616586Z",
     "iopub.status.busy": "2022-02-19T19:54:36.616228Z",
     "iopub.status.idle": "2022-02-19T19:54:36.624306Z",
     "shell.execute_reply": "2022-02-19T19:54:36.623069Z",
     "shell.execute_reply.started": "2022-02-19T19:54:36.616554Z"
    }
   },
   "outputs": [],
   "source": [
    "from sklearn.ensemble import ExtraTreesRegressor\n",
    "\n",
    "impute_estimator = ExtraTreesRegressor(random_state=1, n_estimators=200)\n",
    "\n",
    "column_transformer = make_column_transformer(\n",
    "    (IterativeImputer(random_state=1, estimator=impute_estimator), features_selected),\n",
    "    #(StandardScaler(), features_selected),\n",
    "    (\"drop\", drop_features)\n",
    ")"
   ]
  },
  {
   "cell_type": "code",
   "execution_count": null,
   "metadata": {
    "execution": {
     "iopub.execute_input": "2022-02-19T19:54:37.015578Z",
     "iopub.status.busy": "2022-02-19T19:54:37.014949Z",
     "iopub.status.idle": "2022-02-19T19:54:37.029156Z",
     "shell.execute_reply": "2022-02-19T19:54:37.02785Z",
     "shell.execute_reply.started": "2022-02-19T19:54:37.015544Z"
    }
   },
   "outputs": [],
   "source": [
    "def root_mean_squared_error(y_true, y_pred):\n",
    "    return np.sqrt(mean_squared_error(y_true, y_pred))\n",
    "\n",
    "scoring_metric = make_scorer(root_mean_squared_error)\n",
    "results = {}\n",
    "\n",
    "model = VotingRegressor(\n",
    "    [\n",
    "        (\n",
    "            'cat', CatBoostRegressor(\n",
    "                iterations=5000,\n",
    "                grow_policy='Lossguide',\n",
    "                verbose=0,\n",
    "                task_type='GPU',\n",
    "                l2_leaf_reg=1,\n",
    "                learning_rate=0.03,\n",
    "                depth=10,\n",
    "            )\n",
    "        ),\n",
    "        (\n",
    "            'xgb', XGBRegressor(\n",
    "                grow_policy='lossguide',\n",
    "                tree_method='gpu_hist',\n",
    "                n_estimators=5000,\n",
    "                eta=0.05, \n",
    "                max_depth=10,\n",
    "                reg_lambda=1\n",
    "            )\n",
    "        ),\n",
    "        (\n",
    "            'lgbm', LGBMRegressor(\n",
    "                n_estimators=10000, # num_iterations\n",
    "                device=\"gpu\",\n",
    "                learning_rate=0.03,\n",
    "                reg_lambda=5\n",
    "            )\n",
    "        )\n",
    "    ]\n",
    ")\n",
    "\n",
    "model_pipe = make_pipeline(\n",
    "    column_transformer,\n",
    "    model\n",
    ")"
   ]
  },
  {
   "cell_type": "markdown",
   "metadata": {},
   "source": [
    "# Using KFold instead of CV"
   ]
  },
  {
   "cell_type": "code",
   "execution_count": null,
   "metadata": {
    "execution": {
     "iopub.execute_input": "2022-02-19T19:55:17.33044Z",
     "iopub.status.busy": "2022-02-19T19:55:17.329991Z",
     "iopub.status.idle": "2022-02-19T19:55:17.342001Z",
     "shell.execute_reply": "2022-02-19T19:55:17.340859Z",
     "shell.execute_reply.started": "2022-02-19T19:55:17.330406Z"
    }
   },
   "outputs": [],
   "source": [
    "from sklearn.model_selection import StratifiedKFold\n",
    "\n",
    "folds=5\n",
    "skf = StratifiedKFold(n_splits=folds)\n",
    "\n",
    "X_pre, year_factor = train_df, train_df[\"Year_Factor\"]\n",
    "\n",
    "X, y = X_pre.drop(\"site_eui\", axis=1), X_pre[\"site_eui\"]\n",
    "predictions = np.zeros(test_df.shape[0])"
   ]
  },
  {
   "cell_type": "code",
   "execution_count": null,
   "metadata": {
    "execution": {
     "iopub.execute_input": "2022-02-19T19:55:22.387522Z",
     "iopub.status.busy": "2022-02-19T19:55:22.38674Z",
     "iopub.status.idle": "2022-02-19T20:28:04.817687Z",
     "shell.execute_reply": "2022-02-19T20:28:04.816782Z",
     "shell.execute_reply.started": "2022-02-19T19:55:22.387466Z"
    }
   },
   "outputs": [],
   "source": [
    "import timeit\n",
    "\n",
    "train_score = 0\n",
    "valid_score = 0\n",
    "\n",
    "fold = 1\n",
    "for train_index, valid_index in skf.split(X_pre, year_factor):\n",
    "    \n",
    "    print(f\"fold = {fold}, train set size: {len(train_index)}, valid set size: {len(valid_index)}\")\n",
    "    X_train, X_valid = X.iloc[train_index], X.iloc[valid_index]\n",
    "    y_train, y_valid = y.iloc[train_index], y.iloc[valid_index]\n",
    "    \n",
    "    start = timeit.default_timer()\n",
    "    model_pipe.fit(X_train, y_train)\n",
    "    \n",
    "    fold_train_score = root_mean_squared_error(y_train, model_pipe.predict(X_train))\n",
    "    fold_valid_score = root_mean_squared_error(y_valid, model_pipe.predict(X_valid))\n",
    "    print(f\"Train Score: {fold_train_score}\")\n",
    "    print(f\"Valid Score: {fold_valid_score}\")\n",
    "    \n",
    "    train_score += fold_train_score\n",
    "    valid_score += fold_valid_score\n",
    "    \n",
    "    # predictions =  np.add(predictions, model_pipe.predict(test_df))\n",
    "    end = timeit.default_timer()\n",
    "    print(f\"time taken = {round(end-start)} seconds.\")\n",
    "    fold += 1\n",
    "    print(\"\\n\")\n",
    "print(f\"mean train score = {train_score/folds}, mean valid score = {valid_score/folds}\")"
   ]
  },
  {
   "cell_type": "markdown",
   "metadata": {},
   "source": [
    "### Submission"
   ]
  },
  {
   "cell_type": "code",
   "execution_count": null,
   "metadata": {
    "execution": {
     "iopub.execute_input": "2022-02-18T05:03:10.05603Z",
     "iopub.status.busy": "2022-02-18T05:03:10.054539Z",
     "iopub.status.idle": "2022-02-18T05:03:10.063033Z",
     "shell.execute_reply": "2022-02-18T05:03:10.062317Z",
     "shell.execute_reply.started": "2022-02-18T05:03:10.055996Z"
    }
   },
   "outputs": [],
   "source": [
    "X_test = test_num.drop(\"Year_Factor\", axis=1)"
   ]
  },
  {
   "cell_type": "code",
   "execution_count": null,
   "metadata": {
    "execution": {
     "iopub.execute_input": "2022-02-18T05:03:10.064569Z",
     "iopub.status.busy": "2022-02-18T05:03:10.064125Z",
     "iopub.status.idle": "2022-02-18T05:07:33.074825Z",
     "shell.execute_reply": "2022-02-18T05:07:33.074071Z",
     "shell.execute_reply.started": "2022-02-18T05:03:10.064529Z"
    }
   },
   "outputs": [],
   "source": [
    "model_pipe.fit(X, y);"
   ]
  },
  {
   "cell_type": "code",
   "execution_count": null,
   "metadata": {
    "execution": {
     "iopub.execute_input": "2022-02-18T05:07:33.076988Z",
     "iopub.status.busy": "2022-02-18T05:07:33.076719Z",
     "iopub.status.idle": "2022-02-18T05:07:40.814909Z",
     "shell.execute_reply": "2022-02-18T05:07:40.814248Z",
     "shell.execute_reply.started": "2022-02-18T05:07:33.076956Z"
    }
   },
   "outputs": [],
   "source": [
    "submission_df1 = pd.DataFrame({\n",
    "    \"id\": X_test[\"id\"],\n",
    "    \"site_eui\": model_pipe.predict(X_test)\n",
    "})\n",
    "#submission_df.to_csv(\"/kaggle/working/submission-rr1202-5.csv\", index=False)"
   ]
  },
  {
   "cell_type": "code",
   "execution_count": null,
   "metadata": {
    "execution": {
     "iopub.execute_input": "2022-02-18T05:07:40.816749Z",
     "iopub.status.busy": "2022-02-18T05:07:40.816259Z",
     "iopub.status.idle": "2022-02-18T05:07:40.831474Z",
     "shell.execute_reply": "2022-02-18T05:07:40.830965Z",
     "shell.execute_reply.started": "2022-02-18T05:07:40.81671Z"
    }
   },
   "outputs": [],
   "source": [
    "submission_df1"
   ]
  },
  {
   "cell_type": "markdown",
   "metadata": {},
   "source": [
    "# Model 2: where no similar building ID not found in test set "
   ]
  },
  {
   "cell_type": "code",
   "execution_count": null,
   "metadata": {
    "execution": {
     "iopub.execute_input": "2022-02-18T05:10:29.44664Z",
     "iopub.status.busy": "2022-02-18T05:10:29.446075Z",
     "iopub.status.idle": "2022-02-18T05:10:29.968395Z",
     "shell.execute_reply": "2022-02-18T05:10:29.96767Z",
     "shell.execute_reply.started": "2022-02-18T05:10:29.446601Z"
    }
   },
   "outputs": [],
   "source": [
    "train_df = pd.read_csv(\"/kaggle/input/widsdatathon2022/train.csv\")\n",
    "test_df = pd.read_csv(\"/kaggle/input/widsdatathon2022/test.csv\")"
   ]
  },
  {
   "cell_type": "code",
   "execution_count": null,
   "metadata": {
    "execution": {
     "iopub.execute_input": "2022-02-18T05:10:29.97059Z",
     "iopub.status.busy": "2022-02-18T05:10:29.970319Z",
     "iopub.status.idle": "2022-02-18T05:10:29.975471Z",
     "shell.execute_reply": "2022-02-18T05:10:29.974608Z",
     "shell.execute_reply.started": "2022-02-18T05:10:29.970554Z"
    }
   },
   "outputs": [],
   "source": [
    "# train_df = train_df.query(\"State_Factor != 'State_6'\")"
   ]
  },
  {
   "cell_type": "code",
   "execution_count": null,
   "metadata": {
    "execution": {
     "iopub.execute_input": "2022-02-18T05:10:29.978461Z",
     "iopub.status.busy": "2022-02-18T05:10:29.978026Z",
     "iopub.status.idle": "2022-02-18T05:10:57.147421Z",
     "shell.execute_reply": "2022-02-18T05:10:57.14681Z",
     "shell.execute_reply.started": "2022-02-18T05:10:29.978425Z"
    }
   },
   "outputs": [],
   "source": [
    "temp_cols = train_df.columns[8:44].tolist()\n",
    "\n",
    "from yellowbrick.cluster import KElbowVisualizer\n",
    "from sklearn.cluster import KMeans\n",
    "\n",
    "model = KMeans()\n",
    "visualizer = KElbowVisualizer(model, k=(1, 15))\n",
    "\n",
    "mod_df1 = train_df[temp_cols+[\"id\"]].copy()\n",
    "mod_df2 = test_df[temp_cols+[\"id\"]].copy()\n",
    "mod_df1['set'] = 'train'\n",
    "mod_df2['set'] = 'test'\n",
    "\n",
    "mod_df = mod_df1.append(mod_df2)\n",
    "\n",
    "visualizer.fit(mod_df[temp_cols])  # Fit the data to the visualizer\n",
    "visualizer.show();"
   ]
  },
  {
   "cell_type": "code",
   "execution_count": null,
   "metadata": {
    "execution": {
     "iopub.execute_input": "2022-02-18T05:10:57.149618Z",
     "iopub.status.busy": "2022-02-18T05:10:57.149208Z",
     "iopub.status.idle": "2022-02-18T05:10:58.769937Z",
     "shell.execute_reply": "2022-02-18T05:10:58.769287Z",
     "shell.execute_reply.started": "2022-02-18T05:10:57.149581Z"
    }
   },
   "outputs": [],
   "source": [
    "kmeans = KMeans(n_clusters=5)\n",
    "kmeans.fit(mod_df[temp_cols])\n",
    "\n",
    "clusters_df = mod_df.copy()\n",
    "clusters_df[\"cluster\"] = kmeans.predict(mod_df[temp_cols])\n",
    "clusters_df"
   ]
  },
  {
   "cell_type": "code",
   "execution_count": null,
   "metadata": {
    "execution": {
     "iopub.execute_input": "2022-02-18T05:10:58.77467Z",
     "iopub.status.busy": "2022-02-18T05:10:58.773132Z",
     "iopub.status.idle": "2022-02-18T05:10:58.797193Z",
     "shell.execute_reply": "2022-02-18T05:10:58.796719Z",
     "shell.execute_reply.started": "2022-02-18T05:10:58.774635Z"
    }
   },
   "outputs": [],
   "source": [
    "clusters_df.groupby([\"set\"]).cluster.value_counts(normalize=True)"
   ]
  },
  {
   "cell_type": "code",
   "execution_count": null,
   "metadata": {
    "execution": {
     "iopub.execute_input": "2022-02-18T05:10:58.801548Z",
     "iopub.status.busy": "2022-02-18T05:10:58.800058Z",
     "iopub.status.idle": "2022-02-18T05:10:58.818317Z",
     "shell.execute_reply": "2022-02-18T05:10:58.817827Z",
     "shell.execute_reply.started": "2022-02-18T05:10:58.801516Z"
    }
   },
   "outputs": [],
   "source": [
    "clusters_df.drop(clusters_df.columns[0: 36].to_list(), axis=1, inplace=True)\n",
    "clusters_df"
   ]
  },
  {
   "cell_type": "code",
   "execution_count": null,
   "metadata": {
    "execution": {
     "iopub.execute_input": "2022-02-18T05:10:58.822728Z",
     "iopub.status.busy": "2022-02-18T05:10:58.821233Z",
     "iopub.status.idle": "2022-02-18T05:10:59.04309Z",
     "shell.execute_reply": "2022-02-18T05:10:59.042497Z",
     "shell.execute_reply.started": "2022-02-18T05:10:58.822697Z"
    }
   },
   "outputs": [],
   "source": [
    "train_df = train_df.merge(clusters_df, how='left', on='id')\n",
    "test_df = test_df.merge(clusters_df, how='left', on='id')"
   ]
  },
  {
   "cell_type": "code",
   "execution_count": null,
   "metadata": {
    "execution": {
     "iopub.execute_input": "2022-02-18T05:10:59.049182Z",
     "iopub.status.busy": "2022-02-18T05:10:59.04762Z",
     "iopub.status.idle": "2022-02-18T05:11:03.155521Z",
     "shell.execute_reply": "2022-02-18T05:11:03.154697Z",
     "shell.execute_reply.started": "2022-02-18T05:10:59.049147Z"
    }
   },
   "outputs": [],
   "source": [
    "replace = dict(zip(\n",
    "    [\n",
    "        \"Education_.*\",\n",
    "        \".*(f|F)ood_.*\",\n",
    "        \"Health_Care_.*\",\n",
    "        \"Lodging_.*\",\n",
    "        \"Office_.*\",\n",
    "        \"(Public_|Religious).*\",\n",
    "        \"Retail_.*\",\n",
    "        \"Service_.*\",\n",
    "        \"Warehouse_.*\",\n",
    "        \".*_Unit_.*\",\n",
    "        \"Mixed_Use_.*\"\n",
    "    ],\n",
    "    [\n",
    "        \"Commercial_Education\",\n",
    "        \"Commercial_Food\",\n",
    "        \"Commercial_Health\",\n",
    "        \"Commercial_Hotel\",\n",
    "        \"Commercial_Office\",\n",
    "        \"Commercial_Public\",\n",
    "        \"Commercial_Retail\",\n",
    "        \"Commercial_Service\",\n",
    "        \"Commercial_Warehouse\",\n",
    "        \"Residential_Unit\",\n",
    "        \"Residential_Mixed\"\n",
    "    ]\n",
    "))\n",
    "\n",
    "replace.update({\n",
    "    \"Commercial_Unknown\": \"Commercial_Other\",\n",
    "    \"Data_Center\": \"Commercial_DC\",\n",
    "    \"Industrial\": \"Commercial_Industrial\",\n",
    "    \"Laboratory\": \"Commercial_Lab\",\n",
    "    \"Nursing_Home\": \"Commercial_Home\",\n",
    "    \"Parking_Garage\": \"Commercial_Parking\",\n",
    "    \"Multifamily_Uncategorized\": \"Residential_Multifamily\"\n",
    "})\n",
    "\n",
    "train_df[\"building_class\"] = train_df[\"facility_type\"].replace(replace, regex=True)\n",
    "test_df[\"building_class\"] = test_df[\"facility_type\"].replace(replace, regex=True)"
   ]
  },
  {
   "cell_type": "code",
   "execution_count": null,
   "metadata": {
    "execution": {
     "iopub.execute_input": "2022-02-18T05:11:03.161915Z",
     "iopub.status.busy": "2022-02-18T05:11:03.159965Z",
     "iopub.status.idle": "2022-02-18T05:11:03.209111Z",
     "shell.execute_reply": "2022-02-18T05:11:03.2083Z",
     "shell.execute_reply.started": "2022-02-18T05:11:03.161873Z"
    }
   },
   "outputs": [],
   "source": [
    "year = train_df[\"year_built\"].fillna(2016)\n",
    "train_df = train_df.loc[(year <= 2016) & (year >= 1845)]"
   ]
  },
  {
   "cell_type": "code",
   "execution_count": null,
   "metadata": {
    "execution": {
     "iopub.execute_input": "2022-02-18T05:11:03.215714Z",
     "iopub.status.busy": "2022-02-18T05:11:03.213774Z",
     "iopub.status.idle": "2022-02-18T05:11:03.93048Z",
     "shell.execute_reply": "2022-02-18T05:11:03.929605Z",
     "shell.execute_reply.started": "2022-02-18T05:11:03.215673Z"
    }
   },
   "outputs": [],
   "source": [
    "train_df[\"State_Factor_encoded\"] = train_df.groupby(\"State_Factor\")[\"site_eui\"].transform(\"mean\")\n",
    "train_df[\"building_class_encoded\"] = train_df.groupby(\"building_class\")[\"site_eui\"].transform(\"mean\")\n",
    "train_df[\"facility_type_encoded\"] = train_df.groupby(\"facility_type\")[\"site_eui\"].transform(\"mean\")\n",
    "#train_df[\"building_ID_encoded\"] = train_df.groupby(\"building_ID\")[\"site_eui\"].transform(\"mean\")\n",
    "#train_df[\"month_ID_encoded\"] = train_df.groupby(\"month_ID\")[\"site_eui\"].transform(\"mean\")\n",
    "train_df[\"cluster_encoded\"] = train_df.groupby(\"cluster\")[\"site_eui\"].transform(\"mean\")\n",
    "\n",
    "sf_encoding = (\n",
    "    train_df[[\"State_Factor\",\"State_Factor_encoded\"]]\n",
    "    .drop_duplicates()\n",
    "    .set_index('State_Factor')\n",
    "    .to_dict()['State_Factor_encoded']\n",
    ")\n",
    "train_df = train_df.replace({\"State_Factor\": sf_encoding})\n",
    "test_df = test_df.replace({\"State_Factor\": sf_encoding})\n",
    "\n",
    "bc_encoding = (\n",
    "    train_df[[\"building_class\",\"building_class_encoded\"]]\n",
    "    .drop_duplicates()\n",
    "    .set_index('building_class')\n",
    "    .to_dict()['building_class_encoded']\n",
    ")\n",
    "train_df = train_df.replace({\"building_class\": bc_encoding})\n",
    "test_df = test_df.replace({\"building_class\": bc_encoding})\n",
    "\n",
    "ft_encoding = (\n",
    "    train_df[[\"facility_type\",\"facility_type_encoded\"]]\n",
    "    .drop_duplicates()\n",
    "    .set_index('facility_type')\n",
    "    .to_dict()['facility_type_encoded']\n",
    ")\n",
    "train_df = train_df.replace({\"facility_type\": ft_encoding})\n",
    "test_df = test_df.replace({\"facility_type\": ft_encoding})\n",
    "\n",
    "cl_encoding = (\n",
    "    train_df[[\"cluster\",\"cluster_encoded\"]]\n",
    "    .drop_duplicates()\n",
    "    .set_index('cluster')\n",
    "    .to_dict()['cluster_encoded']\n",
    ")\n",
    "train_df = train_df.replace({\"cluster\": cl_encoding})\n",
    "test_df = test_df.replace({\"cluster\": cl_encoding})\n",
    "\n",
    "# bi_encoding = (\n",
    "#     train_df[[\"building_ID\",\"building_ID_encoded\"]]\n",
    "#     .drop_duplicates()\n",
    "#     .set_index('building_ID')\n",
    "#     .to_dict()['building_ID_encoded']\n",
    "# )\n",
    "# train_df = train_df.replace({\"building_ID\": bi_encoding})\n",
    "# test_df = test_df.replace({\"building_ID\": bi_encoding})\n",
    "\n",
    "# mi_encoding = (\n",
    "#     train_df[[\"month_ID\",\"month_ID_encoded\"]]\n",
    "#     .drop_duplicates()\n",
    "#     .set_index('month_ID')\n",
    "#     .to_dict()['month_ID_encoded']\n",
    "# )\n",
    "# train_df = train_df.replace({\"month_ID\": mi_encoding})\n",
    "# test_df = test_df.replace({\"month_ID\": mi_encoding})\n",
    "\n",
    "train_df = train_df.drop(['State_Factor_encoded',\n",
    "                          'building_class_encoded',\n",
    "                          'facility_type_encoded',\n",
    "                         # \"month_ID_encoded\",\n",
    "                         # 'building_ID_encoded',\n",
    "                          'cluster_encoded'\n",
    "                         ],\n",
    "                         axis = 1)"
   ]
  },
  {
   "cell_type": "code",
   "execution_count": null,
   "metadata": {
    "execution": {
     "iopub.execute_input": "2022-02-18T05:11:03.938553Z",
     "iopub.status.busy": "2022-02-18T05:11:03.936059Z",
     "iopub.status.idle": "2022-02-18T05:11:04.017232Z",
     "shell.execute_reply": "2022-02-18T05:11:04.016379Z",
     "shell.execute_reply.started": "2022-02-18T05:11:03.938415Z"
    }
   },
   "outputs": [],
   "source": [
    "train_df"
   ]
  },
  {
   "cell_type": "markdown",
   "metadata": {},
   "source": [
    "### ML Pipeline"
   ]
  },
  {
   "cell_type": "code",
   "execution_count": null,
   "metadata": {
    "execution": {
     "iopub.execute_input": "2022-02-18T06:01:21.346001Z",
     "iopub.status.busy": "2022-02-18T06:01:21.345403Z",
     "iopub.status.idle": "2022-02-18T06:01:21.352973Z",
     "shell.execute_reply": "2022-02-18T06:01:21.350351Z",
     "shell.execute_reply.started": "2022-02-18T06:01:21.345966Z"
    }
   },
   "outputs": [],
   "source": [
    "features_selected = [\n",
    "    \"facility_type\",\n",
    "    \"building_class\",\n",
    "    \"year_built\",\n",
    "    \"floor_area\",\n",
    "    \"energy_star_rating\",\n",
    "    \"State_Factor\",\n",
    "   # \"building_ID\",\n",
    "   # \"month_ID\",\n",
    "   # \"cluster\"\n",
    "]\n",
    "target = \"site_eui\"\n",
    "drop_features = list(\n",
    "    set(train_df.columns) - set(features_selected) - {target} - {\"Year_Factor\"}\n",
    "    #- set(single)\n",
    ")"
   ]
  },
  {
   "cell_type": "code",
   "execution_count": null,
   "metadata": {
    "execution": {
     "iopub.execute_input": "2022-02-18T06:01:21.974747Z",
     "iopub.status.busy": "2022-02-18T06:01:21.974513Z",
     "iopub.status.idle": "2022-02-18T06:01:21.979816Z",
     "shell.execute_reply": "2022-02-18T06:01:21.978733Z",
     "shell.execute_reply.started": "2022-02-18T06:01:21.974717Z"
    }
   },
   "outputs": [],
   "source": [
    "from sklearn.ensemble import ExtraTreesRegressor\n",
    "\n",
    "impute_estimator = ExtraTreesRegressor(random_state=1, n_estimators=200)\n",
    "\n",
    "column_transformer = make_column_transformer(\n",
    "    (IterativeImputer(random_state=1, estimator=impute_estimator), features_selected),\n",
    "    #(StandardScaler(), features_selected),\n",
    "    (\"drop\", drop_features)\n",
    ")"
   ]
  },
  {
   "cell_type": "code",
   "execution_count": null,
   "metadata": {
    "execution": {
     "iopub.execute_input": "2022-02-18T06:01:24.086422Z",
     "iopub.status.busy": "2022-02-18T06:01:24.085712Z",
     "iopub.status.idle": "2022-02-18T06:01:24.112662Z",
     "shell.execute_reply": "2022-02-18T06:01:24.11197Z",
     "shell.execute_reply.started": "2022-02-18T06:01:24.086381Z"
    }
   },
   "outputs": [],
   "source": [
    "from sklearn.model_selection import StratifiedKFold\n",
    "\n",
    "folds=5\n",
    "skf = StratifiedKFold(n_splits=folds)\n",
    "\n",
    "X_pre, year_factor = train_df.drop(\"Year_Factor\", axis=1), train_df[\"Year_Factor\"]\n",
    "\n",
    "X, y = X_pre.drop(\"site_eui\", axis=1), X_pre[\"site_eui\"]\n",
    "predictions = np.zeros(test_df.shape[0])"
   ]
  },
  {
   "cell_type": "code",
   "execution_count": null,
   "metadata": {
    "execution": {
     "iopub.execute_input": "2022-02-18T05:11:24.775495Z",
     "iopub.status.busy": "2022-02-18T05:11:24.774767Z",
     "iopub.status.idle": "2022-02-18T05:42:06.667074Z",
     "shell.execute_reply": "2022-02-18T05:42:06.66647Z",
     "shell.execute_reply.started": "2022-02-18T05:11:24.775455Z"
    }
   },
   "outputs": [],
   "source": [
    "import timeit\n",
    "\n",
    "train_score = 0\n",
    "valid_score = 0\n",
    "\n",
    "fold = 1\n",
    "for train_index, valid_index in skf.split(X_pre, year_factor):\n",
    "    \n",
    "    print(f\"fold = {fold}, train set size: {len(train_index)}, valid set size: {len(valid_index)}\")\n",
    "    X_train, X_valid = X.iloc[train_index], X.iloc[valid_index]\n",
    "    y_train, y_valid = y.iloc[train_index], y.iloc[valid_index]\n",
    "    \n",
    "    start = timeit.default_timer()\n",
    "    model_pipe.fit(X_train, y_train)\n",
    "    \n",
    "    fold_train_score = root_mean_squared_error(y_train, model_pipe.predict(X_train))\n",
    "    fold_valid_score = root_mean_squared_error(y_valid, model_pipe.predict(X_valid))\n",
    "    print(f\"Train Score: {fold_train_score}\")\n",
    "    print(f\"Valid Score: {fold_valid_score}\")\n",
    "    \n",
    "    train_score += fold_train_score\n",
    "    valid_score += fold_valid_score\n",
    "    \n",
    "    # predictions =  np.add(predictions, model_pipe.predict(test_df))\n",
    "    end = timeit.default_timer()\n",
    "    print(f\"time taken = {round(end-start)} seconds.\")\n",
    "    fold += 1\n",
    "    print(\"\\n\")\n",
    "print(f\"mean train score = {train_score/folds}, mean valid score = {valid_score/folds}\")"
   ]
  },
  {
   "cell_type": "markdown",
   "metadata": {},
   "source": [
    "#### Submission"
   ]
  },
  {
   "cell_type": "code",
   "execution_count": null,
   "metadata": {
    "execution": {
     "iopub.execute_input": "2022-02-18T06:01:33.446555Z",
     "iopub.status.busy": "2022-02-18T06:01:33.446287Z",
     "iopub.status.idle": "2022-02-18T06:01:33.451491Z",
     "shell.execute_reply": "2022-02-18T06:01:33.450578Z",
     "shell.execute_reply.started": "2022-02-18T06:01:33.446526Z"
    }
   },
   "outputs": [],
   "source": [
    "X_test = test_str.drop(columns=[\"Year_Factor\", \"building_ID\"], axis=1)"
   ]
  },
  {
   "cell_type": "code",
   "execution_count": null,
   "metadata": {
    "execution": {
     "iopub.execute_input": "2022-02-18T06:01:33.96937Z",
     "iopub.status.busy": "2022-02-18T06:01:33.968902Z",
     "iopub.status.idle": "2022-02-18T06:07:08.189272Z",
     "shell.execute_reply": "2022-02-18T06:07:08.188473Z",
     "shell.execute_reply.started": "2022-02-18T06:01:33.969333Z"
    }
   },
   "outputs": [],
   "source": [
    "model_pipe.fit(X, y);"
   ]
  },
  {
   "cell_type": "code",
   "execution_count": null,
   "metadata": {
    "execution": {
     "iopub.execute_input": "2022-02-18T06:07:08.191343Z",
     "iopub.status.busy": "2022-02-18T06:07:08.191091Z",
     "iopub.status.idle": "2022-02-18T06:07:08.756355Z",
     "shell.execute_reply": "2022-02-18T06:07:08.755743Z",
     "shell.execute_reply.started": "2022-02-18T06:07:08.191308Z"
    }
   },
   "outputs": [],
   "source": [
    "submission_df2 = pd.DataFrame({\n",
    "    \"id\": X_test[\"id\"],\n",
    "    \"site_eui\": model_pipe.predict(X_test)\n",
    "})\n",
    "# submission_df.to_csv(\"/kaggle/working/submission-rr1202-5.csv\", index=False)"
   ]
  },
  {
   "cell_type": "code",
   "execution_count": null,
   "metadata": {
    "execution": {
     "iopub.execute_input": "2022-02-18T06:07:08.760739Z",
     "iopub.status.busy": "2022-02-18T06:07:08.760107Z",
     "iopub.status.idle": "2022-02-18T06:07:08.776309Z",
     "shell.execute_reply": "2022-02-18T06:07:08.775658Z",
     "shell.execute_reply.started": "2022-02-18T06:07:08.760685Z"
    }
   },
   "outputs": [],
   "source": [
    "submission_df2"
   ]
  },
  {
   "cell_type": "code",
   "execution_count": null,
   "metadata": {
    "execution": {
     "iopub.execute_input": "2022-02-18T06:21:12.751066Z",
     "iopub.status.busy": "2022-02-18T06:21:12.750802Z",
     "iopub.status.idle": "2022-02-18T06:21:12.788021Z",
     "shell.execute_reply": "2022-02-18T06:21:12.787293Z",
     "shell.execute_reply.started": "2022-02-18T06:21:12.751037Z"
    }
   },
   "outputs": [],
   "source": [
    "pd.concat([submission_df1, submission_df2]).to_csv(\"/kaggle/working/submission-rr-1702-2.csv\", index=False)"
   ]
  },
  {
   "cell_type": "markdown",
   "metadata": {},
   "source": [
    "# Ignore this section\n",
    "## MLP Regressor - Work In Progress"
   ]
  },
  {
   "cell_type": "code",
   "execution_count": null,
   "metadata": {
    "execution": {
     "iopub.execute_input": "2022-02-12T05:06:15.024482Z",
     "iopub.status.busy": "2022-02-12T05:06:15.0242Z",
     "iopub.status.idle": "2022-02-12T05:06:15.029889Z",
     "shell.execute_reply": "2022-02-12T05:06:15.029206Z",
     "shell.execute_reply.started": "2022-02-12T05:06:15.02445Z"
    }
   },
   "outputs": [],
   "source": [
    "from sklearn.feature_selection import SelectFromModel\n",
    "from sklearn.linear_model import LassoCV\n",
    "from sklearn.model_selection import RandomizedSearchCV\n",
    "from sklearn.model_selection import KFold\n",
    "from sklearn.neural_network import MLPRegressor\n",
    "from sklearn.pipeline import make_pipeline\n",
    "from sklearn.preprocessing import LabelEncoder\n",
    "from scipy.stats import loguniform"
   ]
  },
  {
   "cell_type": "code",
   "execution_count": null,
   "metadata": {},
   "outputs": [],
   "source": [
    "params = {\n",
    "    \"activation\": [\"logistic\", \"relu\"],\n",
    "    \"solver\": [\"lbfgs\", \"sgd\", \"adam\"],\n",
    "    \"learning_rate_init\": loguniform(1e-2, 2e3),\n",
    "    \"batch_size\": loguniform(150, 512),\n",
    "    \"momentum\":   loguniform(0.85, 0.975)\n",
    "}\n",
    "\n",
    "\n",
    "score_results = []\n",
    "kfold = KFold(n_splits=10, random_state=1)\n",
    "imputer = IterativeImputer(random_state=1, estimator=impute_estimator)\n",
    "\n",
    "scaler = StandardScaler()\n",
    "\n",
    "select = SelectFromModel(LassoCV(cv=kfold, random_state=1), threshold='0.5*median')\n",
    "\n",
    "regressor = MLPRegressor(random_state=1,\n",
    "                         activation='relu',\n",
    "                         solver='sgd',\n",
    "                         learning_rate='adaptive',\n",
    "                         learning_rate_init=0.013000000000000001,\n",
    "                         early_stopping=True,\n",
    "                         hidden_layer_sizes=(140, 140),\n",
    "                         max_iter=10000,\n",
    "                         momentum=0.9697272727272728\n",
    "                         )\n",
    "\n",
    "pipe = make_pipeline(imputer, scaler, select, regressor)\n",
    "my_model = RandomizedSearchCV(pipe,\n",
    "                        params,\n",
    "                        cv=kfold,\n",
    "                        scoring='neg_mean_squared_log_error',\n",
    "                        verbose=0,\n",
    "                        n_jobs=-1,\n",
    "                        error_score=-1000.)\n",
    "\n",
    "my_model.fit(train_set, y)\n",
    "print(-1 * my_model.score(train_set, y))\n",
    "print(my_model.best_params_)\n",
    "\n",
    "train_pred = my_model.predict(train_set)\n",
    "\n",
    "\n",
    "column_transformer = make_column_transformer(\n",
    "    (IterativeImputer(random_state=1, estimator=impute_estimator), features_selected),\n",
    "    (StandardScaler(), ),\n",
    ")"
   ]
  },
  {
   "cell_type": "markdown",
   "metadata": {},
   "source": [
    "# Appendix"
   ]
  },
  {
   "cell_type": "markdown",
   "metadata": {},
   "source": [
    "## Encoding the building_ID column created (does not give decent results)"
   ]
  },
  {
   "cell_type": "code",
   "execution_count": null,
   "metadata": {
    "execution": {
     "iopub.status.busy": "2022-02-18T02:23:39.342548Z",
     "iopub.status.idle": "2022-02-18T02:23:39.343573Z",
     "shell.execute_reply": "2022-02-18T02:23:39.343343Z",
     "shell.execute_reply.started": "2022-02-18T02:23:39.343313Z"
    }
   },
   "outputs": [],
   "source": [
    "# from sklearn.preprocessing import LabelEncoder\n",
    "\n",
    "# encoder = LabelEncoder()\n",
    "\n",
    "# # using entire df for encoding\n",
    "# data=train_df['building_ID'].append(test_df['building_ID'])\n",
    "# encoder.fit(data.values)\n",
    "\n",
    "# train_df['building_ID'] = encoder.transform(train_df['building_ID'])\n",
    "# test_df['building_ID'] = encoder.transform(test_df['building_ID'])\n",
    "\n",
    "# using entire df for encoding\n",
    "# data=train_df['month_ID'].append(test_df['month_ID'])\n",
    "# encoder.fit(data.values)\n",
    "\n",
    "# train_df['month_ID'] = encoder.transform(train_df['month_ID'])\n",
    "# test_df['month_ID'] = encoder.transform(test_df['month_ID'])\n",
    "\n",
    "\n",
    "# building_df = pd.concat([train_df, test_df]).building_ID.value_counts().reset_index()\n",
    "# building_df.columns = ['building_ID', 'count']\n",
    "# building_df['building_counter'] = np.where(building_df['count'] > 1, 0, 1)\n",
    "# building_df = building_df.drop(\"count\", axis=1)\n",
    "# building_df\n",
    "\n",
    "# train_df = train_df.merge(building_df, how='left', on='building_ID')\n",
    "# test_df = test_df.merge(building_df, how='left', on='building_ID')"
   ]
  },
  {
   "cell_type": "code",
   "execution_count": null,
   "metadata": {},
   "outputs": [],
   "source": []
  }
 ],
 "metadata": {
  "kernelspec": {
   "display_name": "Python [conda env:571]",
   "language": "python",
   "name": "conda-env-571-py"
  },
  "language_info": {
   "codemirror_mode": {
    "name": "ipython",
    "version": 3
   },
   "file_extension": ".py",
   "mimetype": "text/x-python",
   "name": "python",
   "nbconvert_exporter": "python",
   "pygments_lexer": "ipython3",
   "version": "3.9.7"
  }
 },
 "nbformat": 4,
 "nbformat_minor": 4
}
